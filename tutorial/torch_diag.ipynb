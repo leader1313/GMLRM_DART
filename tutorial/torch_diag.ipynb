{
 "cells": [
  {
   "cell_type": "code",
   "execution_count": 23,
   "metadata": {},
   "outputs": [],
   "source": [
    "import torch\n",
    "import numpy as np"
   ]
  },
  {
   "cell_type": "code",
   "execution_count": 13,
   "metadata": {},
   "outputs": [],
   "source": [
    "a = torch.randn(3)"
   ]
  },
  {
   "cell_type": "code",
   "execution_count": 14,
   "metadata": {},
   "outputs": [
    {
     "output_type": "execute_result",
     "data": {
      "text/plain": "tensor([[ 2.3506,  0.0000,  0.0000],\n        [ 0.0000,  0.5953,  0.0000],\n        [ 0.0000,  0.0000, -0.1986]])"
     },
     "metadata": {},
     "execution_count": 14
    }
   ],
   "source": [
    "a.diag(0)"
   ]
  },
  {
   "cell_type": "code",
   "execution_count": 19,
   "metadata": {},
   "outputs": [],
   "source": [
    "b= torch.randn(1).repeat(3)"
   ]
  },
  {
   "cell_type": "code",
   "execution_count": 20,
   "metadata": {},
   "outputs": [
    {
     "output_type": "execute_result",
     "data": {
      "text/plain": "tensor([[0.2672, 0.0000, 0.0000],\n        [0.0000, 0.2672, 0.0000],\n        [0.0000, 0.0000, 0.2672]])"
     },
     "metadata": {},
     "execution_count": 20
    }
   ],
   "source": [
    "b.diag(0)"
   ]
  },
  {
   "cell_type": "code",
   "execution_count": 26,
   "metadata": {},
   "outputs": [],
   "source": [
    "c = torch.tensor(np.log(0.05)).float().repeat(3)"
   ]
  },
  {
   "cell_type": "code",
   "execution_count": 31,
   "metadata": {},
   "outputs": [],
   "source": [
    "d= c.diag(0)"
   ]
  },
  {
   "cell_type": "code",
   "execution_count": 33,
   "metadata": {},
   "outputs": [
    {
     "output_type": "execute_result",
     "data": {
      "text/plain": "tensor([[0.0500, 0.0000, 0.0000],\n        [0.0000, 0.0500, 0.0000],\n        [0.0000, 0.0000, 0.0500]])"
     },
     "metadata": {},
     "execution_count": 33
    }
   ],
   "source": [
    "torch.exp(c).diag()"
   ]
  },
  {
   "cell_type": "code",
   "execution_count": null,
   "metadata": {},
   "outputs": [],
   "source": []
  }
 ],
 "metadata": {
  "language_info": {
   "codemirror_mode": {
    "name": "ipython",
    "version": 3
   },
   "file_extension": ".py",
   "mimetype": "text/x-python",
   "name": "python",
   "nbconvert_exporter": "python",
   "pygments_lexer": "ipython3",
   "version": "3.5.3-final"
  },
  "orig_nbformat": 2,
  "kernelspec": {
   "name": "python35364bit353pyenv4c512610071646a3af20c92f2c4b3a0f",
   "display_name": "Python 3.5.3 64-bit ('3.5.3': pyenv)"
  }
 },
 "nbformat": 4,
 "nbformat_minor": 2
}