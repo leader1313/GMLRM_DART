{
 "cells": [
  {
   "cell_type": "code",
   "execution_count": 116,
   "metadata": {},
   "outputs": [],
   "source": [
    "import torch\n",
    "import numpy as np"
   ]
  },
  {
   "cell_type": "code",
   "execution_count": 5,
   "metadata": {},
   "outputs": [],
   "source": [
    "a = torch.randn(10,1)"
   ]
  },
  {
   "cell_type": "code",
   "execution_count": 17,
   "metadata": {
    "tags": []
   },
   "outputs": [
    {
     "output_type": "stream",
     "name": "stdout",
     "text": "tensor([[[1.6815e-03],\n         [1.5734e-01],\n         [1.1424e+00],\n         [2.4835e+00],\n         [3.3585e-01],\n         [3.3889e+00],\n         [6.8936e-01],\n         [1.5005e-03],\n         [2.3799e+00],\n         [2.1039e-01]],\n\n        [[1.6815e-03],\n         [1.5734e-01],\n         [1.1424e+00],\n         [2.4835e+00],\n         [3.3585e-01],\n         [3.3889e+00],\n         [6.8936e-01],\n         [1.5005e-03],\n         [2.3799e+00],\n         [2.1039e-01]],\n\n        [[1.6815e-03],\n         [1.5734e-01],\n         [1.1424e+00],\n         [2.4835e+00],\n         [3.3585e-01],\n         [3.3889e+00],\n         [6.8936e-01],\n         [1.5005e-03],\n         [2.3799e+00],\n         [2.1039e-01]]])\n"
    }
   ],
   "source": [
    "b=((a.repeat(3,1,1)-0.1)**2)\n",
    "print(b)"
   ]
  },
  {
   "cell_type": "code",
   "execution_count": 22,
   "metadata": {
    "tags": []
   },
   "outputs": [
    {
     "output_type": "stream",
     "name": "stdout",
     "text": "torch.Size([3, 10, 1])\ntorch.Size([])\ntorch.Size([3, 1])\ntorch.Size([3, 10])\n"
    }
   ],
   "source": [
    "print(b.shape)\n",
    "print(b.sum().shape)\n",
    "print(b.sum(1).shape)\n",
    "print(b.sum(2).shape)"
   ]
  },
  {
   "cell_type": "code",
   "execution_count": 28,
   "metadata": {
    "tags": []
   },
   "outputs": [
    {
     "output_type": "stream",
     "name": "stdout",
     "text": "tensor([[1.5270],\n        [1.5270],\n        [1.5270],\n        [1.5270],\n        [1.5270],\n        [1.5270],\n        [1.5270],\n        [1.5270],\n        [1.5270],\n        [1.5270]])\n"
    }
   ],
   "source": [
    "sigma = torch.randn(1).repeat(10,1)\n",
    "print(1/sigma)"
   ]
  },
  {
   "cell_type": "code",
   "execution_count": 29,
   "metadata": {},
   "outputs": [
    {
     "output_type": "execute_result",
     "data": {
      "text/plain": "torch.Size([3, 10, 1])"
     },
     "metadata": {},
     "execution_count": 29
    }
   ],
   "source": [
    "(b/sigma).shape"
   ]
  },
  {
   "cell_type": "code",
   "execution_count": 30,
   "metadata": {},
   "outputs": [
    {
     "output_type": "execute_result",
     "data": {
      "text/plain": "tensor([[[2.5677e-03],\n         [2.4026e-01],\n         [1.7445e+00],\n         [3.7923e+00],\n         [5.1285e-01],\n         [5.1749e+00],\n         [1.0527e+00],\n         [2.2912e-03],\n         [3.6342e+00],\n         [3.2126e-01]],\n\n        [[2.5677e-03],\n         [2.4026e-01],\n         [1.7445e+00],\n         [3.7923e+00],\n         [5.1285e-01],\n         [5.1749e+00],\n         [1.0527e+00],\n         [2.2912e-03],\n         [3.6342e+00],\n         [3.2126e-01]],\n\n        [[2.5677e-03],\n         [2.4026e-01],\n         [1.7445e+00],\n         [3.7923e+00],\n         [5.1285e-01],\n         [5.1749e+00],\n         [1.0527e+00],\n         [2.2912e-03],\n         [3.6342e+00],\n         [3.2126e-01]]])"
     },
     "metadata": {},
     "execution_count": 30
    }
   ],
   "source": [
    "(b/sigma)"
   ]
  },
  {
   "cell_type": "code",
   "execution_count": 48,
   "metadata": {
    "tags": []
   },
   "outputs": [
    {
     "output_type": "stream",
     "name": "stdout",
     "text": "tensor([[[1., 0., 0., 0., 0., 0., 0., 0., 0., 0.],\n         [0., 1., 0., 0., 0., 0., 0., 0., 0., 0.],\n         [0., 0., 1., 0., 0., 0., 0., 0., 0., 0.],\n         [0., 0., 0., 1., 0., 0., 0., 0., 0., 0.],\n         [0., 0., 0., 0., 1., 0., 0., 0., 0., 0.],\n         [0., 0., 0., 0., 0., 1., 0., 0., 0., 0.],\n         [0., 0., 0., 0., 0., 0., 1., 0., 0., 0.],\n         [0., 0., 0., 0., 0., 0., 0., 1., 0., 0.],\n         [0., 0., 0., 0., 0., 0., 0., 0., 1., 0.],\n         [0., 0., 0., 0., 0., 0., 0., 0., 0., 1.]],\n\n        [[1., 0., 0., 0., 0., 0., 0., 0., 0., 0.],\n         [0., 1., 0., 0., 0., 0., 0., 0., 0., 0.],\n         [0., 0., 1., 0., 0., 0., 0., 0., 0., 0.],\n         [0., 0., 0., 1., 0., 0., 0., 0., 0., 0.],\n         [0., 0., 0., 0., 1., 0., 0., 0., 0., 0.],\n         [0., 0., 0., 0., 0., 1., 0., 0., 0., 0.],\n         [0., 0., 0., 0., 0., 0., 1., 0., 0., 0.],\n         [0., 0., 0., 0., 0., 0., 0., 1., 0., 0.],\n         [0., 0., 0., 0., 0., 0., 0., 0., 1., 0.],\n         [0., 0., 0., 0., 0., 0., 0., 0., 0., 1.]],\n\n        [[1., 0., 0., 0., 0., 0., 0., 0., 0., 0.],\n         [0., 1., 0., 0., 0., 0., 0., 0., 0., 0.],\n         [0., 0., 1., 0., 0., 0., 0., 0., 0., 0.],\n         [0., 0., 0., 1., 0., 0., 0., 0., 0., 0.],\n         [0., 0., 0., 0., 1., 0., 0., 0., 0., 0.],\n         [0., 0., 0., 0., 0., 1., 0., 0., 0., 0.],\n         [0., 0., 0., 0., 0., 0., 1., 0., 0., 0.],\n         [0., 0., 0., 0., 0., 0., 0., 1., 0., 0.],\n         [0., 0., 0., 0., 0., 0., 0., 0., 1., 0.],\n         [0., 0., 0., 0., 0., 0., 0., 0., 0., 1.]]])\n"
    }
   ],
   "source": [
    "q_f_sig = torch.stack([torch.eye(10) for m in range(3)])\n",
    "print(q_f_sig)"
   ]
  },
  {
   "cell_type": "code",
   "execution_count": 49,
   "metadata": {},
   "outputs": [
    {
     "output_type": "execute_result",
     "data": {
      "text/plain": "tensor([[1., 1., 1., 1., 1., 1., 1., 1., 1., 1.],\n        [1., 1., 1., 1., 1., 1., 1., 1., 1., 1.],\n        [1., 1., 1., 1., 1., 1., 1., 1., 1., 1.]])"
     },
     "metadata": {},
     "execution_count": 49
    }
   ],
   "source": [
    "torch.stack([torch.diag(q_f_sig[m]) for m in range(3)])"
   ]
  },
  {
   "cell_type": "code",
   "execution_count": 50,
   "metadata": {},
   "outputs": [
    {
     "output_type": "execute_result",
     "data": {
      "text/plain": "torch.Size([10])"
     },
     "metadata": {},
     "execution_count": 50
    }
   ],
   "source": [
    "torch.diag(q_f_sig[1]).shape"
   ]
  },
  {
   "cell_type": "code",
   "execution_count": 51,
   "metadata": {},
   "outputs": [
    {
     "output_type": "execute_result",
     "data": {
      "text/plain": "tensor([1.5270, 1.5270, 1.5270, 1.5270, 1.5270, 1.5270, 1.5270, 1.5270, 1.5270,\n        1.5270])"
     },
     "metadata": {},
     "execution_count": 51
    }
   ],
   "source": [
    "torch.diag(q_f_sig[1]/sigma)"
   ]
  },
  {
   "cell_type": "code",
   "execution_count": 61,
   "metadata": {
    "tags": []
   },
   "outputs": [
    {
     "output_type": "stream",
     "name": "stdout",
     "text": "tensor([[1.5270, 1.5270, 1.5270, 1.5270, 1.5270, 1.5270, 1.5270, 1.5270, 1.5270,\n         1.5270],\n        [1.5270, 1.5270, 1.5270, 1.5270, 1.5270, 1.5270, 1.5270, 1.5270, 1.5270,\n         1.5270],\n        [1.5270, 1.5270, 1.5270, 1.5270, 1.5270, 1.5270, 1.5270, 1.5270, 1.5270,\n         1.5270]])\ntorch.Size([3, 10])\n"
    }
   ],
   "source": [
    "d =torch.stack([torch.diag(q_f_sig[m]/sigma) for m in range(3)])\n",
    "print(d)\n",
    "print(d.shape)"
   ]
  },
  {
   "cell_type": "code",
   "execution_count": 59,
   "metadata": {},
   "outputs": [],
   "source": [
    "e = torch.randn(3,10)"
   ]
  },
  {
   "cell_type": "code",
   "execution_count": 73,
   "metadata": {},
   "outputs": [],
   "source": [
    "f = -0.5*torch.log(sigma).repeat(3,1,1).sum(2)"
   ]
  },
  {
   "cell_type": "code",
   "execution_count": 74,
   "metadata": {},
   "outputs": [
    {
     "output_type": "execute_result",
     "data": {
      "text/plain": "torch.Size([3, 10])"
     },
     "metadata": {},
     "execution_count": 74
    }
   ],
   "source": [
    "f.shape"
   ]
  },
  {
   "cell_type": "code",
   "execution_count": 136,
   "metadata": {},
   "outputs": [],
   "source": [
    "q_z_pi = torch.randn(3, 10) / 3"
   ]
  },
  {
   "cell_type": "code",
   "execution_count": 137,
   "metadata": {},
   "outputs": [
    {
     "output_type": "execute_result",
     "data": {
      "text/plain": "torch.Size([3, 10])"
     },
     "metadata": {},
     "execution_count": 137
    }
   ],
   "source": [
    "q_z_pi.shape"
   ]
  },
  {
   "cell_type": "code",
   "execution_count": 139,
   "metadata": {},
   "outputs": [],
   "source": [
    "q_z_pi[q_z_pi<0]=0"
   ]
  },
  {
   "cell_type": "code",
   "execution_count": 140,
   "metadata": {},
   "outputs": [
    {
     "output_type": "execute_result",
     "data": {
      "text/plain": "tensor([[0.3568, 0.0000, 0.0000, 0.1667, 0.0000, 0.0000, 0.0000, 0.0572, 0.2250,\n         0.1970],\n        [0.1140, 0.4913, 0.9002, 0.0000, 0.0000, 0.0000, 0.2887, 0.0000, 0.0000,\n         0.0000],\n        [0.0000, 0.0000, 0.2669, 0.0000, 0.0000, 0.0000, 0.0000, 0.0000, 0.0000,\n         0.0000]])"
     },
     "metadata": {},
     "execution_count": 140
    }
   ],
   "source": [
    "q_z_pi"
   ]
  },
  {
   "cell_type": "code",
   "execution_count": 152,
   "metadata": {},
   "outputs": [
    {
     "output_type": "execute_result",
     "data": {
      "text/plain": "torch.Size([10])"
     },
     "metadata": {},
     "execution_count": 152
    }
   ],
   "source": [
    "(q_z_pi[0][...,None]/sigma).sum(1).shape"
   ]
  },
  {
   "cell_type": "code",
   "execution_count": 153,
   "metadata": {},
   "outputs": [
    {
     "output_type": "execute_result",
     "data": {
      "text/plain": "torch.Size([10, 1])"
     },
     "metadata": {},
     "execution_count": 153
    }
   ],
   "source": [
    "(q_z_pi[0][...,None]/sigma).shape"
   ]
  },
  {
   "cell_type": "code",
   "execution_count": 165,
   "metadata": {},
   "outputs": [],
   "source": [
    "Psi = sigma.sum(1).repeat(3,1)"
   ]
  },
  {
   "cell_type": "code",
   "execution_count": 167,
   "metadata": {},
   "outputs": [
    {
     "output_type": "execute_result",
     "data": {
      "text/plain": "tensor([0.6549, 0.6549, 0.6549, 0.6549, 0.6549, 0.6549, 0.6549, 0.6549, 0.6549,\n        0.6549])"
     },
     "metadata": {},
     "execution_count": 167
    }
   ],
   "source": [
    "Psi[1]"
   ]
  },
  {
   "cell_type": "code",
   "execution_count": 168,
   "metadata": {},
   "outputs": [
    {
     "output_type": "execute_result",
     "data": {
      "text/plain": "tensor(1.2690)"
     },
     "metadata": {},
     "execution_count": 168
    }
   ],
   "source": [
    "0.5*(q_z_pi[1]*torch.log(np.pi*2*Psi[1])).sum()"
   ]
  },
  {
   "cell_type": "code",
   "execution_count": 126,
   "metadata": {},
   "outputs": [],
   "source": [
    "psi = 0.01"
   ]
  },
  {
   "cell_type": "code",
   "execution_count": 127,
   "metadata": {},
   "outputs": [
    {
     "output_type": "execute_result",
     "data": {
      "text/plain": "tensor([[0.2766, 0.0920, 0.0000, 0.2978, 0.4485, 0.2349, 0.4956, 0.1278, 0.3277,\n         0.1625],\n        [0.0000, 0.3681, 0.0000, 0.0125, 0.0000, 0.1935, 0.0000, 0.0000, 0.3446,\n         0.0000],\n        [0.2628, 0.0000, 0.0000, 0.0000, 0.0325, 0.8946, 0.0984, 0.0000, 0.0000,\n         0.0000]])"
     },
     "metadata": {},
     "execution_count": 127
    }
   ],
   "source": [
    "q_z_pi"
   ]
  },
  {
   "cell_type": "code",
   "execution_count": 134,
   "metadata": {},
   "outputs": [],
   "source": [
    "q_z_pi/= psi"
   ]
  },
  {
   "cell_type": "code",
   "execution_count": 183,
   "metadata": {
    "tags": []
   },
   "outputs": [
    {
     "output_type": "stream",
     "name": "stdout",
     "text": "torch.Size([2, 10, 2])\ntensor([[[0.3333, 0.3333],\n         [0.3333, 0.3333],\n         [0.3333, 0.3333],\n         [0.3333, 0.3333],\n         [0.3333, 0.3333],\n         [0.3333, 0.3333],\n         [0.3333, 0.3333],\n         [0.3333, 0.3333],\n         [0.3333, 0.3333],\n         [0.3333, 0.3333]],\n\n        [[0.3333, 0.3333],\n         [0.3333, 0.3333],\n         [0.3333, 0.3333],\n         [0.3333, 0.3333],\n         [0.3333, 0.3333],\n         [0.3333, 0.3333],\n         [0.3333, 0.3333],\n         [0.3333, 0.3333],\n         [0.3333, 0.3333],\n         [0.3333, 0.3333]]])\n"
    }
   ],
   "source": [
    "Y = torch.ones(10,2)*2\n",
    "q_f_mean = torch.ones(2,10,2)\n",
    "psi = torch.ones(10,2)*3\n",
    "print((((Y.repeat(2,1,1)-q_f_mean)**2)/psi).shape)\n",
    "print((((Y.repeat(2,1,1)-q_f_mean)**2)/psi))"
   ]
  },
  {
   "cell_type": "code",
   "execution_count": 184,
   "metadata": {},
   "outputs": [
    {
     "output_type": "execute_result",
     "data": {
      "text/plain": "tensor([[6., 6.],\n        [6., 6.],\n        [6., 6.],\n        [6., 6.],\n        [6., 6.],\n        [6., 6.],\n        [6., 6.],\n        [6., 6.],\n        [6., 6.],\n        [6., 6.]])"
     },
     "metadata": {},
     "execution_count": 184
    }
   ],
   "source": [
    "Y*psi"
   ]
  },
  {
   "cell_type": "code",
   "execution_count": null,
   "metadata": {},
   "outputs": [],
   "source": []
  }
 ],
 "metadata": {
  "language_info": {
   "codemirror_mode": {
    "name": "ipython",
    "version": 3
   },
   "file_extension": ".py",
   "mimetype": "text/x-python",
   "name": "python",
   "nbconvert_exporter": "python",
   "pygments_lexer": "ipython3",
   "version": "3.5.3-final"
  },
  "orig_nbformat": 2,
  "kernelspec": {
   "name": "python35364bit353pyenv4c512610071646a3af20c92f2c4b3a0f",
   "display_name": "Python 3.5.3 64-bit ('3.5.3': pyenv)"
  }
 },
 "nbformat": 4,
 "nbformat_minor": 2
}