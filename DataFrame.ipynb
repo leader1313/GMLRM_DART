{
 "cells": [
  {
   "cell_type": "code",
   "execution_count": 22,
   "metadata": {},
   "outputs": [],
   "source": [
    "import pandas as pd\n",
    "from pandas import DataFrame, concat"
   ]
  },
  {
   "cell_type": "code",
   "execution_count": 23,
   "metadata": {},
   "outputs": [],
   "source": [
    "End = DataFrame(columns =['x_e','y_e'])"
   ]
  },
  {
   "cell_type": "code",
   "execution_count": 24,
   "metadata": {},
   "outputs": [
    {
     "output_type": "stream",
     "name": "stdout",
     "text": "Empty DataFrame\nColumns: [goal_x1, goal_y1, goal_x2, goal_y2]\nIndex: []\nEmpty DataFrame\nColumns: [x_e, y_e, goal_x1, goal_y1, goal_x2, goal_y2]\nIndex: []\n"
    }
   ],
   "source": [
    "Num_Goal = 2\n",
    "Goal = DataFrame()\n",
    "for i in range(Num_Goal):\n",
    "    New_Goal = DataFrame(columns =['goal_x'+str(i+1),'goal_y'+str(i+1)])\n",
    "    Goal = Goal.join(New_Goal)\n",
    "print(Goal)\n",
    "data = End.join(Goal)\n",
    "print(data)"
   ]
  },
  {
   "cell_type": "code",
   "execution_count": 17,
   "metadata": {},
   "outputs": [
    {
     "output_type": "execute_result",
     "data": {
      "text/plain": "Empty DataFrame\nColumns: [goal_x1, goal_y1, x_e, y_e, 1, y1, xe, ye]\nIndex: []",
      "text/html": "<div>\n<style scoped>\n    .dataframe tbody tr th:only-of-type {\n        vertical-align: middle;\n    }\n\n    .dataframe tbody tr th {\n        vertical-align: top;\n    }\n\n    .dataframe thead th {\n        text-align: right;\n    }\n</style>\n<table border=\"1\" class=\"dataframe\">\n  <thead>\n    <tr style=\"text-align: right;\">\n      <th></th>\n      <th>goal_x1</th>\n      <th>goal_y1</th>\n      <th>x_e</th>\n      <th>y_e</th>\n      <th>1</th>\n      <th>y1</th>\n      <th>xe</th>\n      <th>ye</th>\n    </tr>\n  </thead>\n  <tbody>\n  </tbody>\n</table>\n</div>"
     },
     "metadata": {},
     "execution_count": 17
    }
   ],
   "source": [
    "concat([End,data], axis = 1)"
   ]
  },
  {
   "cell_type": "code",
   "execution_count": 36,
   "metadata": {},
   "outputs": [],
   "source": [
    "dat1 = pd.DataFrame({'dat1'+str(2): [9,5]})\n",
    "dat2 = pd.DataFrame({'dat2': [7,6]})"
   ]
  },
  {
   "cell_type": "code",
   "execution_count": 37,
   "metadata": {},
   "outputs": [
    {
     "output_type": "execute_result",
     "data": {
      "text/plain": "   dat12  dat2\n0      9     7\n1      5     6",
      "text/html": "<div>\n<style scoped>\n    .dataframe tbody tr th:only-of-type {\n        vertical-align: middle;\n    }\n\n    .dataframe tbody tr th {\n        vertical-align: top;\n    }\n\n    .dataframe thead th {\n        text-align: right;\n    }\n</style>\n<table border=\"1\" class=\"dataframe\">\n  <thead>\n    <tr style=\"text-align: right;\">\n      <th></th>\n      <th>dat12</th>\n      <th>dat2</th>\n    </tr>\n  </thead>\n  <tbody>\n    <tr>\n      <th>0</th>\n      <td>9</td>\n      <td>7</td>\n    </tr>\n    <tr>\n      <th>1</th>\n      <td>5</td>\n      <td>6</td>\n    </tr>\n  </tbody>\n</table>\n</div>"
     },
     "metadata": {},
     "execution_count": 37
    }
   ],
   "source": [
    "dat1.join(dat2)"
   ]
  },
  {
   "cell_type": "code",
   "execution_count": null,
   "metadata": {},
   "outputs": [],
   "source": []
  }
 ],
 "metadata": {
  "language_info": {
   "codemirror_mode": {
    "name": "ipython",
    "version": 3
   },
   "file_extension": ".py",
   "mimetype": "text/x-python",
   "name": "python",
   "nbconvert_exporter": "python",
   "pygments_lexer": "ipython3",
   "version": "3.5.3-final"
  },
  "orig_nbformat": 2,
  "kernelspec": {
   "name": "python35364bit353pyenv37c18f1a80ff470895b416120dffdb27",
   "display_name": "Python 3.5.3 64-bit ('3.5.3': pyenv)"
  }
 },
 "nbformat": 4,
 "nbformat_minor": 2
}